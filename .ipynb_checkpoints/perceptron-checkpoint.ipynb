{
 "cells": [
  {
   "cell_type": "code",
   "execution_count": null,
   "metadata": {},
   "outputs": [],
   "source": [
    "import numpy as np\n",
    "\n",
    "class Perceptron(object):\n",
    "   \"\"\"\n",
    "    パーセプトロンの分類器\n",
    "    \n",
    "    パラメーター\n",
    "    ----------\n",
    "    eta : float\n",
    "        学習率（0.0より大きく1.0より小さい）\n",
    "    n_iter : int\n",
    "        重みを初期化するための乱数シード\n",
    "    \n",
    "    分類\n",
    "    ---------\n",
    "    w_ : 1次元配列\n",
    "        適応後の重み\n",
    "    errors_ : リスト\n",
    "        各エポックでの語分類（更新）の数\n",
    "    \"\"\"\n",
    "    def __init__(self, eta = 0.01, n_iter = 50, random_state=1):\n",
    "        self.eta = eta\n",
    "        self.n_iter = n_iter\n",
    "        self.random_state = random_state\n",
    "    def fit(self, x, y):\n",
    "        \"\"\"\n",
    "        訓練データに適合させる\n",
    "        \n",
    "        パラメーター\n",
    "        -------\n",
    "        x : {配列のようなデータ構造}, shape = [n_examples, n_features]\n",
    "        訓練データ\n",
    "        n_exampleは訓練データの個数, n_featuresは特徴量の個数\n",
    "        y : 配列のようなデータ構造, shape = [n_examples]\n",
    "        目的変数\n",
    "        \n",
    "        戻り値\n",
    "        ------\n",
    "        self : object\n",
    "        \n",
    "        \"\"\"\n",
    "        "
   ]
  }
 ],
 "metadata": {
  "kernelspec": {
   "display_name": "Python 3",
   "language": "python",
   "name": "python3"
  },
  "language_info": {
   "codemirror_mode": {
    "name": "ipython",
    "version": 3
   },
   "file_extension": ".py",
   "mimetype": "text/x-python",
   "name": "python",
   "nbconvert_exporter": "python",
   "pygments_lexer": "ipython3",
   "version": "3.8.2"
  }
 },
 "nbformat": 4,
 "nbformat_minor": 4
}
